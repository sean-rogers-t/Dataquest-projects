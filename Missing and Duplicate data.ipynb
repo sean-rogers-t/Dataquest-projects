{
 "cells": [
  {
   "cell_type": "markdown",
   "metadata": {},
   "source": [
    "### Missing and Duplicate Data\n",
    "We will look at the happiness data to learn how to deal with missing and duplicate data with pandas"
   ]
  },
  {
   "cell_type": "code",
   "execution_count": 1,
   "metadata": {},
   "outputs": [],
   "source": [
    "import pandas as pd\n",
    "import matplotlib.pyplot as plt\n",
    "happiness2015=pd.read_csv('Downloads\\World_Happiness_2015.csv')\n",
    "happiness2016 = pd.read_csv(\"Downloads\\World_Happiness_2016.csv\")\n",
    "happiness2017 = pd.read_csv(\"Downloads\\World_Happiness_2017.csv\")\n",
    "happiness2015['Year']=2015\n",
    "happiness2016['Year']=2016\n",
    "happiness2017['Year']=2017"
   ]
  },
  {
   "cell_type": "code",
   "execution_count": 2,
   "metadata": {},
   "outputs": [
    {
     "data": {
      "text/plain": [
       "(158, 13)"
      ]
     },
     "execution_count": 2,
     "metadata": {},
     "output_type": "execute_result"
    }
   ],
   "source": []
  },
  {
   "cell_type": "code",
   "execution_count": null,
   "metadata": {},
   "outputs": [],
   "source": []
  }
 ],
 "metadata": {
  "kernelspec": {
   "display_name": "Python 3",
   "language": "python",
   "name": "python3"
  },
  "language_info": {
   "codemirror_mode": {
    "name": "ipython",
    "version": 3
   },
   "file_extension": ".py",
   "mimetype": "text/x-python",
   "name": "python",
   "nbconvert_exporter": "python",
   "pygments_lexer": "ipython3",
   "version": "3.7.4"
  }
 },
 "nbformat": 4,
 "nbformat_minor": 2
}
